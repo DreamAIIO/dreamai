{
 "cells": [
  {
   "attachments": {},
   "cell_type": "markdown",
   "metadata": {},
   "source": [
    "# Checkers\n",
    "\n",
    "> Some functions to check what an object is."
   ]
  },
  {
   "cell_type": "code",
   "execution_count": null,
   "metadata": {},
   "outputs": [],
   "source": [
    "#| default_exp checkers"
   ]
  },
  {
   "cell_type": "code",
   "execution_count": null,
   "metadata": {},
   "outputs": [
    {
     "name": "stderr",
     "output_type": "stream",
     "text": [
      "UsageError: Line magic function `%nbdev_skip_test` not found.\n"
     ]
    }
   ],
   "source": [
    "#| hide\n",
    "\n",
    "from nbdev.showdoc import *\n",
    "from fastcore.test import *\n",
    "\n",
    "%nbdev_skip_test\n",
    "\n",
    "%matplotlib inline\n",
    "%load_ext autoreload\n",
    "%autoreload 2\n",
    "%reload_ext autoreload"
   ]
  },
  {
   "cell_type": "code",
   "execution_count": null,
   "metadata": {},
   "outputs": [],
   "source": [
    "#| export\n",
    "\n",
    "from dreamai.core import *\n",
    "from dreamai.imports import *"
   ]
  },
  {
   "cell_type": "code",
   "execution_count": null,
   "metadata": {},
   "outputs": [],
   "source": [
    "#| export\n",
    "\n",
    "def is_list(x):\n",
    "    return isinstance(x, list)\n",
    "\n",
    "def is_tuple(x):\n",
    "    return isinstance(x, tuple)\n",
    "\n",
    "def list_or_tuple(x):\n",
    "    return (is_list(x) or is_tuple(x))\n",
    "\n",
    "def is_iter(o):\n",
    "    \"Test whether `o` can be used in a `for` loop.\"\n",
    "    #Rank 0 tensors in PyTorch are not really iterable\n",
    "    return isinstance(o, (Iterable,Generator)) and getattr(o,'ndim',1)\n",
    "\n",
    "def is_dict(x):\n",
    "    return isinstance(x, dict)\n",
    "\n",
    "def is_df(x):\n",
    "    return isinstance(x, pd.core.frame.DataFrame)\n",
    "\n",
    "def is_str(x):\n",
    "    return isinstance(x, str)\n",
    "\n",
    "def is_int(x):\n",
    "    return isinstance(x, int)    \n",
    "\n",
    "def is_float(x):\n",
    "    return isinstance(x, float)\n",
    "\n",
    "def is_array(x):\n",
    "    return isinstance(x, np.ndarray)\n",
    "\n",
    "def is_pilimage(x):\n",
    "    return 'PIL' in str(type(x))\n",
    "\n",
    "def is_tensor(x):\n",
    "    return isinstance(x, torch.Tensor)\n",
    "\n",
    "def is_set(x):\n",
    "    return isinstance(x, set)\n",
    "\n",
    "def is_path(x):\n",
    "    return isinstance(x, Path)\n",
    "\n",
    "def path_or_str(x):\n",
    "    return is_str(x) or is_path(x)\n",
    "\n",
    "def is_norm(x):\n",
    "    return type(x).__name__ == 'Normalize'\n",
    "\n",
    "def is_frozen(model):\n",
    "    return np.array([not p.requires_grad for p in (params(model))]).all()\n",
    "\n",
    "def is_unfrozen(model):\n",
    "    return np.array([p.requires_grad for p in (params(model))]).all()\n",
    "\n",
    "def is_subscriptable(x):\n",
    "    return hasattr(x, '__getitem__')\n",
    "\n",
    "def is_sequential(x):\n",
    "    return isinstance(x, nn.Sequential)\n",
    "\n",
    "def is_clip(x):\n",
    "    return type(x).__name__ == 'ProntoClip' or 'moviepy' in str(type(x))"
   ]
  },
  {
   "cell_type": "markdown",
   "metadata": {},
   "source": [
    "## Some tests"
   ]
  },
  {
   "attachments": {},
   "cell_type": "markdown",
   "metadata": {},
   "source": [
    "Checking a file path:"
   ]
  },
  {
   "cell_type": "code",
   "execution_count": null,
   "metadata": {},
   "outputs": [],
   "source": [
    "x = 'image_path.jpg'\n",
    "test_eq(is_str(x), True)\n",
    "test_eq(is_path(x), False)\n",
    "test_eq(path_or_str(x), True)\n"
   ]
  },
  {
   "cell_type": "code",
   "execution_count": null,
   "metadata": {},
   "outputs": [],
   "source": [
    "x2 = Path('image_path.jpg')\n",
    "test_eq(is_str(x2), False)\n",
    "test_eq(is_path(x2), True)\n",
    "test_eq(path_or_str(x2), True)"
   ]
  },
  {
   "attachments": {},
   "cell_type": "markdown",
   "metadata": {},
   "source": [
    "Checking a numpy array:"
   ]
  },
  {
   "cell_type": "code",
   "execution_count": null,
   "metadata": {},
   "outputs": [],
   "source": [
    "x = np.array([1,2,3])\n",
    "test_eq(is_array(x), True)\n",
    "test_eq(is_list(x), False)\n",
    "test_eq(is_iter(x), True)"
   ]
  },
  {
   "cell_type": "code",
   "execution_count": null,
   "metadata": {},
   "outputs": [],
   "source": [
    "#| hide\n",
    "import nbdev; nbdev.nbdev_export()"
   ]
  }
 ],
 "metadata": {
  "kernelspec": {
   "display_name": "dai",
   "language": "python",
   "name": "python3"
  }
 },
 "nbformat": 4,
 "nbformat_minor": 4
}
