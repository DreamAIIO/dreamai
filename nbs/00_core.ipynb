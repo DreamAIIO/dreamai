{
 "cells": [
  {
   "attachments": {},
   "cell_type": "markdown",
   "metadata": {},
   "source": [
    "# Core\n",
    "\n",
    "> Some basic functions and classes."
   ]
  },
  {
   "cell_type": "code",
   "execution_count": null,
   "metadata": {},
   "outputs": [],
   "source": [
    "#| default_exp core"
   ]
  },
  {
   "cell_type": "code",
   "execution_count": null,
   "metadata": {},
   "outputs": [
    {
     "name": "stderr",
     "output_type": "stream",
     "text": [
      "UsageError: Line magic function `%nbdev_skip_test` not found.\n"
     ]
    }
   ],
   "source": [
    "#| hide\n",
    "\n",
    "from nbdev.showdoc import *\n",
    "from fastcore.test import *\n",
    "\n",
    "%nbdev_skip_test\n",
    "%matplotlib inline\n",
    "%load_ext autoreload\n",
    "%autoreload 2\n",
    "%reload_ext autoreload"
   ]
  },
  {
   "cell_type": "code",
   "execution_count": null,
   "metadata": {},
   "outputs": [],
   "source": [
    "#| export\n",
    "\n",
    "from dreamai.imports import *"
   ]
  },
  {
   "cell_type": "code",
   "execution_count": null,
   "metadata": {},
   "outputs": [],
   "source": [
    "#| export\n",
    "\n",
    "def flatten_list(l):\n",
    "    \"Flatten a list of lists.\"\n",
    "    l2 = []\n",
    "    for x in l:\n",
    "        if is_list(x):\n",
    "            l2 += flatten_list(x)\n",
    "        else:\n",
    "            l2.append(x)\n",
    "    return l2\n",
    "\n",
    "def noop(x=None, **kwargs):\n",
    "    \"Do nothing.\"\n",
    "    return x\n",
    "\n",
    "def is_list(x):\n",
    "    return isinstance(x, list)\n",
    "\n",
    "def is_tuple(x):\n",
    "    return isinstance(x, tuple)\n",
    "\n",
    "def list_or_tuple(x):\n",
    "    return (is_list(x) or is_tuple(x))\n",
    "\n",
    "def is_iter(o):\n",
    "    \"Test whether `o` can be used in a `for` loop.\"\n",
    "    #Rank 0 tensors in PyTorch are not really iterable\n",
    "    return isinstance(o, (Iterable,Generator)) and getattr(o,'ndim',1)\n",
    "\n",
    "def is_dict(x):\n",
    "    return isinstance(x, dict)\n",
    "\n",
    "def is_df(x):\n",
    "    return isinstance(x, pd.core.frame.DataFrame)\n",
    "\n",
    "def is_str(x):\n",
    "    return isinstance(x, str)\n",
    "\n",
    "def is_int(x):\n",
    "    return isinstance(x, int)    \n",
    "\n",
    "def is_float(x):\n",
    "    return isinstance(x, float)\n",
    "\n",
    "def is_array(x):\n",
    "    return isinstance(x, np.ndarray)\n",
    "\n",
    "def is_pilimage(x):\n",
    "    return 'PIL' in str(type(x))\n",
    "\n",
    "def is_tensor(x):\n",
    "    return isinstance(x, torch.Tensor)\n",
    "\n",
    "def is_set(x):\n",
    "    return isinstance(x, set)\n",
    "\n",
    "def is_path(x):\n",
    "    return isinstance(x, Path)\n",
    "\n",
    "def path_or_str(x):\n",
    "    return is_str(x) or is_path(x)\n",
    "\n",
    "def is_norm(x):\n",
    "    return type(x).__name__ == 'Normalize'\n",
    "\n",
    "def params(m):\n",
    "    \"Return all parameters of `m`.\"\n",
    "    return [p for p in m.parameters()]\n",
    "\n",
    "def is_frozen(model):\n",
    "    return np.array([not p.requires_grad for p in (params(model))]).all()\n",
    "\n",
    "def is_unfrozen(model):\n",
    "    return np.array([p.requires_grad for p in (params(model))]).all()\n",
    "\n",
    "def is_subscriptable(x):\n",
    "    return hasattr(x, '__getitem__')\n",
    "\n",
    "def is_sequential(x):\n",
    "    return isinstance(x, nn.Sequential)\n",
    "\n",
    "def is_clip(x):\n",
    "    return type(x).__name__ == 'ProntoClip' or 'moviepy' in str(type(x))\n",
    "\n",
    "def path_name(x):\n",
    "    return Path(x).name\n",
    "\n",
    "def path_stem(x):\n",
    "    return Path(x).stem\n",
    "\n",
    "def extend_path_name(p, s='_2'):\n",
    "    \"Add `s` to the name of a path `p`. Before the extension.\"\n",
    "    p = Path(p)\n",
    "    return p.parent/(p.stem+s+p.suffix)\n",
    "\n",
    "def end_of_path(p, n=2):\n",
    "    \"Get the last `n` parts of a path `p`.\"\n",
    "    parts = p.parts\n",
    "    p = Path(parts[-n])\n",
    "    for i in range(-(n-1), 0):\n",
    "        p/=parts[i]\n",
    "    return p\n",
    "\n",
    "def add_ext_to_path(p, ext='pkl'):\n",
    "    \"Add an extension to a path `p` if it doesn't have one.\"\n",
    "    if ext[0] != '.':\n",
    "        ext = '.'+ext\n",
    "    if len(Path(p).suffix) == 0:\n",
    "        p = str(p)\n",
    "        if p[-1] != '.':\n",
    "            p+=ext\n",
    "        else:\n",
    "            p+=ext[1:]\n",
    "    return p\n",
    "\n",
    "def last_modified(x):\n",
    "    \"Get the last modified time of a file.\"\n",
    "    return x.stat().st_ctime\n",
    "\n",
    "def load_yaml(file):\n",
    "    with open(file) as f:\n",
    "        env = load(f, Loader=Loader)\n",
    "    return env\n",
    "\n",
    "def save_obj(path, obj):\n",
    "    with open(path, 'wb') as f:\n",
    "        pickle.dump(obj, f, pickle.HIGHEST_PROTOCOL)\n",
    "\n",
    "def load_obj(path):\n",
    "    with open(path, 'rb') as f:\n",
    "        return pickle.load(f)\n",
    "\n",
    "def yml_to_pip(yml):\n",
    "    \"Get pip packages from a conda environment `yml` file.\"\n",
    "    env = load_yaml(yml)\n",
    "    env_pip = env['dependencies'][-1]['pip']\n",
    "    return \" \".join(env_pip).replace('==', '>=')\n",
    "\n",
    "def merge_dicts(d1,d2):\n",
    "    d = {}\n",
    "    for k in d1:\n",
    "        d[k] = d1[k]\n",
    "    for k in d2:\n",
    "        d[k] = d2[k]\n",
    "    return d\n",
    "\n",
    "def dict_values(d):\n",
    "    \"Get the values of a dictionary sorted by key.\"\n",
    "    return [v for _,v in sorted(d.items(), key=lambda x:x[0])]\n",
    "\n",
    "def dict_keys(d):\n",
    "    \"Get the sorted keys of a dictionary.\"\n",
    "    return [k for k,_ in sorted(d.items(), key=lambda x:x[0])]\n",
    "\n",
    "def sort_dict(d, by_value=False):\n",
    "    \"Sort a dictionary by key by default or by value if `by_value` is True.\"\n",
    "    idx = int(by_value)\n",
    "    return {k: v for k, v in sorted(d.items(), key=lambda item:item[idx])}\n",
    "\n",
    "def locals_to_params(l, omit=[], expand=['kwargs']):\n",
    "    \"Convert all the local variables to a dictionary of parameters.\"\n",
    "    if 'kwargs' not in expand:\n",
    "        expand.append('kwargs')\n",
    "    l = copy.deepcopy(l)\n",
    "    if 'self' in l.keys():\n",
    "        del l['self']\n",
    "    if '__class__' in l.keys():\n",
    "        del l['__class__']\n",
    "    keys = dict_keys(l)\n",
    "    for k in keys:\n",
    "        if k in expand:\n",
    "            for k2 in l[k]:\n",
    "                if k2 not in l.keys():\n",
    "                    l[k2] = l[k][k2]\n",
    "            del l[k]\n",
    "        if k in omit:\n",
    "            del l[k]\n",
    "    return l\n",
    "\n",
    "def list_map(l, m):\n",
    "    \"Apply `m` to each element of `l`.\"\n",
    "    return list(pd.Series(l).apply(m))\n",
    "\n",
    "def next_batch(dl):\n",
    "    \"Get the next batch from a dataloader `dl`.\"\n",
    "    return next(iter(dl))\n",
    "\n",
    "def model_children(model):\n",
    "    \"Get the children of a model.\"\n",
    "    return list(model.children())\n",
    "\n",
    "def replace_dict_key(d:dict, x='', y='',\n",
    "                     strict=False): # If True, replace if `x` == key. If False, replace if `x` in key.\n",
    "    \"Replace key `x` with `y` in dictionary `d`.\"\n",
    "    if (x == '' and y == '') or x == y:\n",
    "        return d\n",
    "    if strict:\n",
    "        fn = lambda k: k.replace(x, y) if x == k else k\n",
    "    else:\n",
    "        fn = lambda k: k.replace(x, y) if x in k else k\n",
    "    return {fn(k): v for k, v in d.items()}\n",
    "\n",
    "def proc_fn(fn):\n",
    "    \"Process function `fn`. It can be a string to match or a function that takes a key and returns True/False.\"\n",
    "    if is_str(fn):\n",
    "        t = copy.deepcopy(fn)\n",
    "        fn = lambda x: x==t\n",
    "    return fn\n",
    "\n",
    "def filter_dict(d,\n",
    "                fn): # Can be a string to match or a function that takes a key and returns True/False.\n",
    "    \"Filter dict `d` based on function `fn`.\"\n",
    "    d2 = {}\n",
    "    fn = proc_fn(fn)\n",
    "    keys = dict_keys(d)\n",
    "    for k in keys:\n",
    "        if fn(k):\n",
    "            d2[k] = d[k]\n",
    "    return d2\n",
    "\n",
    "def setify(o): return o if isinstance(o,set) else set(list(o))\n",
    "\n",
    "def _get_files(p, fs, extensions=None):\n",
    "    p = Path(p)\n",
    "    res = [p/f for f in fs if not f.startswith('.')\n",
    "           and ((not extensions) or f'.{f.split(\".\")[-1].lower()}' in extensions)]\n",
    "    return res\n",
    "\n",
    "def get_files(path, extensions=None, recurse=True, folders=None, followlinks=True, make_str=False):\n",
    "    \"Get all the files in `path` with optional `extensions`, optionally with `recurse`, only in `folders`, if specified.\"\n",
    "    if folders is None:\n",
    "        folders = list([])\n",
    "    path = Path(path)\n",
    "    if extensions is not None:\n",
    "        extensions = setify(extensions)\n",
    "        extensions = {e.lower() for e in extensions}\n",
    "    if recurse:\n",
    "        res = []\n",
    "        for i,(p,d,f) in enumerate(os.walk(path, followlinks=followlinks)): # returns (dirpath, dirnames, filenames)\n",
    "            if len(folders) !=0 and i==0: d[:] = [o for o in d if o in folders]\n",
    "            else:                         d[:] = [o for o in d if not o.startswith('.')]\n",
    "            if len(folders) !=0 and i==0 and '.' not in folders: continue\n",
    "            res += _get_files(p, f, extensions)\n",
    "    else:\n",
    "        f = [o.name for o in os.scandir(path) if o.is_file()]\n",
    "        res = _get_files(path, f, extensions)\n",
    "    if make_str: res = [str(o) for o in res]\n",
    "    return list(res)"
   ]
  },
  {
   "attachments": {},
   "cell_type": "markdown",
   "metadata": {},
   "source": [
    "## Some usage examples:"
   ]
  },
  {
   "cell_type": "markdown",
   "metadata": {},
   "source": [
    "Get all the files in a directory."
   ]
  },
  {
   "cell_type": "code",
   "execution_count": null,
   "metadata": {},
   "outputs": [
    {
     "data": {
      "text/plain": [
       "[Path('../dreamai/vision.py'),\n",
       " Path('../dreamai/core.py'),\n",
       " Path('../dreamai/imports.py')]"
      ]
     },
     "execution_count": null,
     "metadata": {},
     "output_type": "execute_result"
    }
   ],
   "source": [
    "path = '../'\n",
    "files = get_files(path)\n",
    "files[-11:-8]"
   ]
  },
  {
   "attachments": {},
   "cell_type": "markdown",
   "metadata": {},
   "source": [
    "Only get the files from the `nbs` folder."
   ]
  },
  {
   "cell_type": "code",
   "execution_count": null,
   "metadata": {},
   "outputs": [
    {
     "data": {
      "text/plain": [
       "[Path('../nbs/index.ipynb'),\n",
       " Path('../nbs/nbdev.yml'),\n",
       " Path('../nbs/sidebar.yml'),\n",
       " Path('../nbs/01_vision.ipynb'),\n",
       " Path('../nbs/_quarto.yml'),\n",
       " Path('../nbs/styles.css'),\n",
       " Path('../nbs/00_core.ipynb')]"
      ]
     },
     "execution_count": null,
     "metadata": {},
     "output_type": "execute_result"
    }
   ],
   "source": [
    "nb_files = get_files(path, folders=['nbs'])\n",
    "nb_files"
   ]
  },
  {
   "attachments": {},
   "cell_type": "markdown",
   "metadata": {},
   "source": [
    "Checking a file path. All tests should pass."
   ]
  },
  {
   "cell_type": "code",
   "execution_count": null,
   "metadata": {},
   "outputs": [
    {
     "data": {
      "text/plain": [
       "'../nbs/00_core.ipynb'"
      ]
     },
     "execution_count": null,
     "metadata": {},
     "output_type": "execute_result"
    }
   ],
   "source": [
    "file = str(nb_files[-1])\n",
    "test_eq(is_str(file), True)\n",
    "test_eq(is_path(file), False)\n",
    "test_eq(path_or_str(file), True)\n",
    "file"
   ]
  },
  {
   "cell_type": "code",
   "execution_count": null,
   "metadata": {},
   "outputs": [
    {
     "data": {
      "text/plain": [
       "Path('../nbs/00_core.ipynb')"
      ]
     },
     "execution_count": null,
     "metadata": {},
     "output_type": "execute_result"
    }
   ],
   "source": [
    "file = nb_files[-1]\n",
    "test_eq(is_str(file), False)\n",
    "test_eq(is_path(file), True)\n",
    "test_eq(path_or_str(file), True)\n",
    "file"
   ]
  },
  {
   "attachments": {},
   "cell_type": "markdown",
   "metadata": {},
   "source": [
    "Checking a numpy array."
   ]
  },
  {
   "cell_type": "code",
   "execution_count": null,
   "metadata": {},
   "outputs": [],
   "source": [
    "x = np.array([1,2,3])\n",
    "test_eq(is_array(x), True)\n",
    "test_eq(is_list(x), False)\n",
    "test_eq(is_iter(x), True)"
   ]
  },
  {
   "attachments": {},
   "cell_type": "markdown",
   "metadata": {},
   "source": [
    "Add an extension to a file path if it doesn't already have one."
   ]
  },
  {
   "cell_type": "code",
   "execution_count": null,
   "metadata": {},
   "outputs": [
    {
     "name": "stdout",
     "output_type": "stream",
     "text": [
      "['f1', 'f2.jpeg', 'f3']\n",
      "['f1.png', 'f2.jpeg', 'f3.png']\n"
     ]
    }
   ],
   "source": [
    "l = ['f1', 'f2.jpeg', 'f3']\n",
    "ext = '.png'\n",
    "l2 = list_map(l, partial(add_ext_to_path, ext=ext))\n",
    "print(l)\n",
    "print(l2)"
   ]
  },
  {
   "attachments": {},
   "cell_type": "markdown",
   "metadata": {},
   "source": [
    "Some dictionary examples."
   ]
  },
  {
   "cell_type": "code",
   "execution_count": null,
   "metadata": {},
   "outputs": [],
   "source": [
    "d = {'apple':1, 'apple_pie':2, 'cake':3}"
   ]
  },
  {
   "cell_type": "code",
   "execution_count": null,
   "metadata": {},
   "outputs": [
    {
     "name": "stdout",
     "output_type": "stream",
     "text": [
      "{'apple': 1, 'apple_pie': 2, 'cake': 3}\n",
      "{'apple': 1, 'apple_pie': 2, 'cake': 3}\n"
     ]
    }
   ],
   "source": [
    "# Sort dict.\n",
    "\n",
    "print(sort_dict(d)) # by key\n",
    "print(sort_dict(d, by_value=True)) # by value"
   ]
  },
  {
   "cell_type": "code",
   "execution_count": null,
   "metadata": {},
   "outputs": [
    {
     "name": "stdout",
     "output_type": "stream",
     "text": [
      "{'pumpkin': 1, 'apple_pie': 2, 'cake': 3}\n",
      "{'pumpkin': 1, 'pumpkin_pie': 2, 'cake': 3}\n"
     ]
    }
   ],
   "source": [
    "# Replace 'apple' with 'pumpkin'\n",
    "print(replace_dict_key(d, x='apple', y='pumpkin', strict=True))\n",
    "\n",
    "# Replace all instances of 'apple' with 'pumpkin'\n",
    "print(replace_dict_key(d, x='apple', y='pumpkin', strict=False))"
   ]
  },
  {
   "cell_type": "code",
   "execution_count": null,
   "metadata": {},
   "outputs": [
    {
     "data": {
      "text/plain": [
       "{'apple': 1, 'apple_pie': 2}"
      ]
     },
     "execution_count": null,
     "metadata": {},
     "output_type": "execute_result"
    }
   ],
   "source": [
    "# Remove keys that don't have 'apple' in them.\n",
    "d2 = filter_dict(d, fn=lambda x: 'apple' in x)\n",
    "d2"
   ]
  },
  {
   "cell_type": "code",
   "execution_count": null,
   "metadata": {},
   "outputs": [],
   "source": [
    "#| hide\n",
    "\n",
    "test_eq(dict_keys(d2), ['apple', 'apple_pie'])"
   ]
  },
  {
   "cell_type": "markdown",
   "metadata": {},
   "source": [
    "Flatten a list."
   ]
  },
  {
   "cell_type": "code",
   "execution_count": null,
   "metadata": {},
   "outputs": [
    {
     "data": {
      "text/plain": [
       "[1, 2, 3, 4, 5, 6, 7, 8, 9, 10]"
      ]
     },
     "execution_count": null,
     "metadata": {},
     "output_type": "execute_result"
    }
   ],
   "source": [
    "l = [[1, 2, 3], [4, [5, 6]], [7], [8, 9], 10]\n",
    "l2 = flatten_list(l)\n",
    "l2"
   ]
  },
  {
   "cell_type": "code",
   "execution_count": null,
   "metadata": {},
   "outputs": [],
   "source": [
    "test_eq(l2, [1, 2, 3, 4, 5, 6, 7, 8, 9, 10])"
   ]
  },
  {
   "attachments": {},
   "cell_type": "markdown",
   "metadata": {},
   "source": [
    "Get the local variables/parameters in a function."
   ]
  },
  {
   "cell_type": "code",
   "execution_count": null,
   "metadata": {},
   "outputs": [],
   "source": [
    "def fn2(z=30, **kwargs):\n",
    "    \n",
    "    # lp will have the value of `z` and the values in `kwargs`.\n",
    "    lp = locals_to_params(locals())\n",
    "    print(f'fn2 local params: {lp}')\n",
    "    return lp['z']\n",
    "\n",
    "def fn(x=10, y=20, **kwargs):\n",
    "    \n",
    "    # lp will have the value of `x`, `y` and the values in `kwargs`.\n",
    "    lp = locals_to_params(locals())\n",
    "    print(f'fn local params: {lp}') \n",
    "    return x + y + fn2(**lp)"
   ]
  },
  {
   "cell_type": "code",
   "execution_count": null,
   "metadata": {},
   "outputs": [
    {
     "name": "stdout",
     "output_type": "stream",
     "text": [
      "fn local params: {'x': 10, 'y': 20}\n",
      "fn2 local params: {'z': 30, 'x': 10, 'y': 20}\n",
      "Result: 60\n"
     ]
    }
   ],
   "source": [
    "res = fn()  # fn2 will receive `x=10`, `y=30` and `z=30` by default.\n",
    "print(f'Result: {res}')"
   ]
  },
  {
   "cell_type": "code",
   "execution_count": null,
   "metadata": {},
   "outputs": [
    {
     "name": "stdout",
     "output_type": "stream",
     "text": [
      "fn local params: {'x': 50, 'y': 20, 'z': 300}\n",
      "fn2 local params: {'z': 300, 'x': 50, 'y': 20}\n",
      "Result: 370\n"
     ]
    }
   ],
   "source": [
    "params = {'x': 50, 'z': 300} # fn2 will receive `x=50`, `y=20`, `z=300`.\n",
    "res = fn(**params)\n",
    "print(f'Result: {res}')"
   ]
  },
  {
   "cell_type": "code",
   "execution_count": null,
   "metadata": {},
   "outputs": [],
   "source": [
    "#| hide\n",
    "import nbdev; nbdev.nbdev_export()"
   ]
  }
 ],
 "metadata": {
  "kernelspec": {
   "display_name": "dai",
   "language": "python",
   "name": "python3"
  }
 },
 "nbformat": 4,
 "nbformat_minor": 4
}
