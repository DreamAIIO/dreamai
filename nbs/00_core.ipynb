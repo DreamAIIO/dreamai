{
 "cells": [
  {
   "attachments": {},
   "cell_type": "markdown",
   "metadata": {},
   "source": [
    "# Core\n",
    "\n",
    "> Some basic functions and classes."
   ]
  },
  {
   "cell_type": "code",
   "execution_count": null,
   "metadata": {},
   "outputs": [],
   "source": [
    "#| default_exp core"
   ]
  },
  {
   "cell_type": "code",
   "execution_count": null,
   "metadata": {},
   "outputs": [
    {
     "name": "stderr",
     "output_type": "stream",
     "text": [
      "UsageError: Line magic function `%nbdev_skip_test` not found.\n"
     ]
    }
   ],
   "source": [
    "#| hide\n",
    "\n",
    "from nbdev.showdoc import *\n",
    "from fastcore.test import *\n",
    "\n",
    "%nbdev_skip_test\n",
    "%matplotlib inline\n",
    "%load_ext autoreload\n",
    "%autoreload 2\n",
    "%reload_ext autoreload"
   ]
  },
  {
   "cell_type": "code",
   "execution_count": null,
   "metadata": {},
   "outputs": [],
   "source": [
    "#| export\n",
    "\n",
    "from dreamai.imports import *"
   ]
  },
  {
   "cell_type": "code",
   "execution_count": null,
   "metadata": {},
   "outputs": [],
   "source": [
    "#| export\n",
    "\n",
    "def load_yaml(file):\n",
    "    with open(file) as f:\n",
    "        env = load(f, Loader=Loader)\n",
    "    return env\n",
    "\n",
    "def save_obj(path, obj):\n",
    "    with open(path, 'wb') as f:\n",
    "        pickle.dump(obj, f, pickle.HIGHEST_PROTOCOL)\n",
    "\n",
    "def load_obj(path):\n",
    "    with open(path, 'rb') as f:\n",
    "        return pickle.load(f)\n",
    "\n",
    "def yml_to_pip(yml):\n",
    "    \"Get pip packages from a conda environment `yml` file.\"\n",
    "    env = load_yaml(yml)\n",
    "    env_pip = env['dependencies'][-1]['pip']\n",
    "    return \" \".join(env_pip).replace('==', '>=')\n",
    "\n",
    "def params(m):\n",
    "    \"Return all parameters of `m`.\"\n",
    "    return [p for p in m.parameters()]\n",
    "\n",
    "def merge_dicts(d1,d2):\n",
    "    d = {}\n",
    "    for k in d1:\n",
    "        d[k] = d1[k]\n",
    "    for k in d2:\n",
    "        d[k] = d2[k]\n",
    "    return d\n",
    "\n",
    "def dict_values(d):\n",
    "    return list(d.values())\n",
    "\n",
    "def dict_keys(d):\n",
    "    return list(d.keys())\n",
    "\n",
    "def sort_dict(d, by_value=False):\n",
    "    idx = int(by_value)\n",
    "    return {k: v for k, v in sorted(d.items(), key=lambda item:item[idx])}\n",
    "\n",
    "def locals_to_params(l, omit=[], expand=['kwargs']):\n",
    "    \"Convert all the local variables to a dictionary of parameters.\"\n",
    "    if 'kwargs' not in expand:\n",
    "        expand.append('kwargs')\n",
    "    l = copy.deepcopy(l)\n",
    "    if 'self' in l.keys():\n",
    "        del l['self']\n",
    "    if '__class__' in l.keys():\n",
    "        del l['__class__']\n",
    "    keys = dict_keys(l)\n",
    "    for k in keys:\n",
    "        if k in expand:\n",
    "            for k2 in l[k]:\n",
    "                if k2 not in l.keys():\n",
    "                    l[k2] = l[k][k2]\n",
    "            del l[k]\n",
    "        if k in omit:\n",
    "            del l[k]\n",
    "    return l"
   ]
  },
  {
   "cell_type": "code",
   "execution_count": null,
   "metadata": {},
   "outputs": [],
   "source": [
    "#| hide\n",
    "import nbdev; nbdev.nbdev_export()"
   ]
  }
 ],
 "metadata": {
  "kernelspec": {
   "display_name": "dai",
   "language": "python",
   "name": "python3"
  }
 },
 "nbformat": 4,
 "nbformat_minor": 4
}
