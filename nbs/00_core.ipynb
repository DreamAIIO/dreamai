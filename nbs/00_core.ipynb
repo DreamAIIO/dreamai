{
 "cells": [
  {
   "attachments": {},
   "cell_type": "markdown",
   "metadata": {},
   "source": [
    "# Core\n",
    "\n",
    "> Some basic functions and classes."
   ]
  },
  {
   "cell_type": "code",
   "execution_count": null,
   "metadata": {},
   "outputs": [],
   "source": [
    "#| default_exp core"
   ]
  },
  {
   "cell_type": "code",
   "execution_count": null,
   "metadata": {},
   "outputs": [
    {
     "name": "stderr",
     "output_type": "stream",
     "text": [
      "UsageError: Line magic function `%nbdev_skip_test` not found.\n"
     ]
    }
   ],
   "source": [
    "#| hide\n",
    "\n",
    "from nbdev.showdoc import *\n",
    "from fastcore.test import *\n",
    "\n",
    "%nbdev_skip_test\n",
    "%matplotlib inline\n",
    "%load_ext autoreload\n",
    "%autoreload 2\n",
    "%reload_ext autoreload"
   ]
  },
  {
   "cell_type": "code",
   "execution_count": null,
   "metadata": {},
   "outputs": [],
   "source": [
    "#| export\n",
    "\n",
    "from dreamai.imports import *"
   ]
  },
  {
   "cell_type": "code",
   "execution_count": null,
   "metadata": {},
   "outputs": [],
   "source": [
    "#| export\n",
    "\n",
    "#| export\n",
    "\n",
    "def is_list(x):\n",
    "    return isinstance(x, list)\n",
    "\n",
    "def is_tuple(x):\n",
    "    return isinstance(x, tuple)\n",
    "\n",
    "def list_or_tuple(x):\n",
    "    return (is_list(x) or is_tuple(x))\n",
    "\n",
    "def is_iter(o):\n",
    "    \"Test whether `o` can be used in a `for` loop.\"\n",
    "    #Rank 0 tensors in PyTorch are not really iterable\n",
    "    return isinstance(o, (Iterable,Generator)) and getattr(o,'ndim',1)\n",
    "\n",
    "def is_dict(x):\n",
    "    return isinstance(x, dict)\n",
    "\n",
    "def is_df(x):\n",
    "    return isinstance(x, pd.core.frame.DataFrame)\n",
    "\n",
    "def is_str(x):\n",
    "    return isinstance(x, str)\n",
    "\n",
    "def is_int(x):\n",
    "    return isinstance(x, int)    \n",
    "\n",
    "def is_float(x):\n",
    "    return isinstance(x, float)\n",
    "\n",
    "def is_array(x):\n",
    "    return isinstance(x, np.ndarray)\n",
    "\n",
    "def is_pilimage(x):\n",
    "    return 'PIL' in str(type(x))\n",
    "\n",
    "def is_tensor(x):\n",
    "    return isinstance(x, torch.Tensor)\n",
    "\n",
    "def is_set(x):\n",
    "    return isinstance(x, set)\n",
    "\n",
    "def is_path(x):\n",
    "    return isinstance(x, Path)\n",
    "\n",
    "def path_or_str(x):\n",
    "    return is_str(x) or is_path(x)\n",
    "\n",
    "def is_norm(x):\n",
    "    return type(x).__name__ == 'Normalize'\n",
    "\n",
    "def params(m):\n",
    "    \"Return all parameters of `m`.\"\n",
    "    return [p for p in m.parameters()]\n",
    "\n",
    "def is_frozen(model):\n",
    "    return np.array([not p.requires_grad for p in (params(model))]).all()\n",
    "\n",
    "def is_unfrozen(model):\n",
    "    return np.array([p.requires_grad for p in (params(model))]).all()\n",
    "\n",
    "def is_subscriptable(x):\n",
    "    return hasattr(x, '__getitem__')\n",
    "\n",
    "def is_sequential(x):\n",
    "    return isinstance(x, nn.Sequential)\n",
    "\n",
    "def is_clip(x):\n",
    "    return type(x).__name__ == 'ProntoClip' or 'moviepy' in str(type(x))\n",
    "\n",
    "def load_yaml(file):\n",
    "    with open(file) as f:\n",
    "        env = load(f, Loader=Loader)\n",
    "    return env\n",
    "\n",
    "def save_obj(path, obj):\n",
    "    with open(path, 'wb') as f:\n",
    "        pickle.dump(obj, f, pickle.HIGHEST_PROTOCOL)\n",
    "\n",
    "def load_obj(path):\n",
    "    with open(path, 'rb') as f:\n",
    "        return pickle.load(f)\n",
    "\n",
    "def yml_to_pip(yml):\n",
    "    \"Get pip packages from a conda environment `yml` file.\"\n",
    "    env = load_yaml(yml)\n",
    "    env_pip = env['dependencies'][-1]['pip']\n",
    "    return \" \".join(env_pip).replace('==', '>=')\n",
    "\n",
    "def merge_dicts(d1,d2):\n",
    "    d = {}\n",
    "    for k in d1:\n",
    "        d[k] = d1[k]\n",
    "    for k in d2:\n",
    "        d[k] = d2[k]\n",
    "    return d\n",
    "\n",
    "def dict_values(d):\n",
    "    \"Get the values of a dictionary sorted by key.\"\n",
    "    return [v for _,v in sorted(d.items(), key=lambda x:x[0])]\n",
    "\n",
    "def dict_keys(d):\n",
    "    \"Get the sorted keys of a dictionary.\"\n",
    "    return [k for k,_ in sorted(d.items(), key=lambda x:x[0])]\n",
    "\n",
    "def sort_dict(d, by_value=False):\n",
    "    \"Sort a dictionary by key by default or by value if `by_value` is True.\"\n",
    "    idx = int(by_value)\n",
    "    return {k: v for k, v in sorted(d.items(), key=lambda item:item[idx])}\n",
    "\n",
    "def locals_to_params(l, omit=[], expand=['kwargs']):\n",
    "    \"Convert all the local variables to a dictionary of parameters.\"\n",
    "    if 'kwargs' not in expand:\n",
    "        expand.append('kwargs')\n",
    "    l = copy.deepcopy(l)\n",
    "    if 'self' in l.keys():\n",
    "        del l['self']\n",
    "    if '__class__' in l.keys():\n",
    "        del l['__class__']\n",
    "    keys = dict_keys(l)\n",
    "    for k in keys:\n",
    "        if k in expand:\n",
    "            for k2 in l[k]:\n",
    "                if k2 not in l.keys():\n",
    "                    l[k2] = l[k][k2]\n",
    "            del l[k]\n",
    "        if k in omit:\n",
    "            del l[k]\n",
    "    return l\n",
    "\n",
    "def list_map(l, m):\n",
    "    \"Apply `m` to each element of `l`.\"\n",
    "    return list(pd.Series(l).apply(m))\n",
    "\n",
    "def add_extension_(x, data_path='', ext='.jpg', make_str=True):\n",
    "    \"Helper function for add_extension.\"\n",
    "    if ext[0] != '.': ext = '.'+ext\n",
    "    x = Path(data_path)/(x+ext)\n",
    "    if make_str:\n",
    "        return str(x)\n",
    "    return x\n",
    "\n",
    "def add_extension(l:list, # List of file names or file paths\n",
    "                  data_path='', # Path to the data folder. It will be added before the file paths.\n",
    "                  ext:str='.jpg', # Extension to add to the file names.\n",
    "                  make_str=True): # If True, convert the file paths to strings.\n",
    "    \"Add an extension to the file names/paths in list `l`.\"\n",
    "    fn = partial(add_extension_, data_path=data_path, ext=ext, make_str=make_str)\n",
    "    return list_map(l, fn)\n",
    "\n",
    "def next_batch(dl):\n",
    "    \"Get the next batch from a dataloader `dl`.\"\n",
    "    return next(iter(dl))\n",
    "\n",
    "def model_children(model):\n",
    "    \"Get the children of a model.\"\n",
    "    return list(model.children())\n",
    "\n",
    "def replace_dict_key(d:dict, x='', y='',\n",
    "                     strict=False): # If True, replace if `x` == key. If False, replace if `x` in key.\n",
    "    \"Replace key `x` with `y` in dictionary `d`.\"\n",
    "    if (x == '' and y == '') or x == y:\n",
    "        return d\n",
    "    if strict:\n",
    "        fn = lambda k: k.replace(x, y) if x == k else k\n",
    "    else:\n",
    "        fn = lambda k: k.replace(x, y) if x in k else k\n",
    "    return {fn(k): v for k, v in d.items()}\n",
    "\n",
    "def proc_fn(fn):\n",
    "    \"Process function `fn`. It can be a string to match or a function that takes a key and returns True/False.\"\n",
    "    if is_str(fn):\n",
    "        t = copy.deepcopy(fn)\n",
    "        fn = lambda x: x==t\n",
    "    return fn\n",
    "\n",
    "def filter_dict(d,\n",
    "                fn): # Can be a string to match or a function that takes a key and returns True/False.\n",
    "    \"Filter dict `d` based on function `fn`.\"\n",
    "    d2 = {}\n",
    "    fn = proc_fn(fn)\n",
    "    keys = dict_keys(d)\n",
    "    for k in keys:\n",
    "        if fn(k):\n",
    "            d2[k] = d[k]\n",
    "    return d2"
   ]
  },
  {
   "attachments": {},
   "cell_type": "markdown",
   "metadata": {},
   "source": [
    "## Some usage examples:"
   ]
  },
  {
   "cell_type": "markdown",
   "metadata": {},
   "source": [
    "Checking a file path."
   ]
  },
  {
   "cell_type": "code",
   "execution_count": null,
   "metadata": {},
   "outputs": [],
   "source": [
    "x = 'image_path.jpg'\n",
    "test_eq(is_str(x), True)\n",
    "test_eq(is_path(x), False)\n",
    "test_eq(path_or_str(x), True)"
   ]
  },
  {
   "cell_type": "code",
   "execution_count": null,
   "metadata": {},
   "outputs": [],
   "source": [
    "x2 = Path('image_path.jpg')\n",
    "test_eq(is_str(x2), False)\n",
    "test_eq(is_path(x2), True)\n",
    "test_eq(path_or_str(x2), True)"
   ]
  },
  {
   "attachments": {},
   "cell_type": "markdown",
   "metadata": {},
   "source": [
    "Checking a numpy array."
   ]
  },
  {
   "cell_type": "code",
   "execution_count": null,
   "metadata": {},
   "outputs": [],
   "source": [
    "x = np.array([1,2,3])\n",
    "test_eq(is_array(x), True)\n",
    "test_eq(is_list(x), False)\n",
    "test_eq(is_iter(x), True)"
   ]
  },
  {
   "attachments": {},
   "cell_type": "markdown",
   "metadata": {},
   "source": [
    "Add data_path before file paths and add an extension to the file path."
   ]
  },
  {
   "cell_type": "code",
   "execution_count": null,
   "metadata": {},
   "outputs": [
    {
     "name": "stdout",
     "output_type": "stream",
     "text": [
      "['f1', 'f2', 'f3']\n",
      "['data/files/f1.png', 'data/files/f2.png', 'data/files/f3.png']\n"
     ]
    }
   ],
   "source": [
    "l = ['f1', 'f2', 'f3']\n",
    "data_path = 'data/files'\n",
    "ext = '.png'\n",
    "l2 = add_extension(l, data_path, ext, make_str=True)\n",
    "print(l)\n",
    "print(l2)"
   ]
  },
  {
   "cell_type": "code",
   "execution_count": null,
   "metadata": {},
   "outputs": [],
   "source": [
    "#| hide\n",
    "\n",
    "assert [x[-4:] == ext for x in l2]"
   ]
  },
  {
   "attachments": {},
   "cell_type": "markdown",
   "metadata": {},
   "source": [
    "Some dictionary examples."
   ]
  },
  {
   "cell_type": "code",
   "execution_count": null,
   "metadata": {},
   "outputs": [],
   "source": [
    "d = {'apple':1, 'apple_pie':2, 'cake':3}"
   ]
  },
  {
   "cell_type": "code",
   "execution_count": null,
   "metadata": {},
   "outputs": [
    {
     "name": "stdout",
     "output_type": "stream",
     "text": [
      "{'apple': 1, 'apple_pie': 2, 'cake': 3}\n",
      "{'apple': 1, 'apple_pie': 2, 'cake': 3}\n"
     ]
    }
   ],
   "source": [
    "# Sort dict.\n",
    "\n",
    "print(sort_dict(d)) # by key\n",
    "print(sort_dict(d, by_value=True)) # by value"
   ]
  },
  {
   "cell_type": "code",
   "execution_count": null,
   "metadata": {},
   "outputs": [
    {
     "name": "stdout",
     "output_type": "stream",
     "text": [
      "{'pumpkin': 1, 'apple_pie': 2, 'cake': 3}\n",
      "{'pumpkin': 1, 'pumpkin_pie': 2, 'cake': 3}\n"
     ]
    }
   ],
   "source": [
    "# Replace 'apple' with 'pumpkin'\n",
    "print(replace_dict_key(d, x='apple', y='pumpkin', strict=True))\n",
    "\n",
    "# Replace all instances of 'apple' with 'pumpkin'\n",
    "print(replace_dict_key(d, x='apple', y='pumpkin', strict=False))"
   ]
  },
  {
   "cell_type": "code",
   "execution_count": null,
   "metadata": {},
   "outputs": [
    {
     "data": {
      "text/plain": [
       "{'apple': 1, 'apple_pie': 2}"
      ]
     },
     "execution_count": null,
     "metadata": {},
     "output_type": "execute_result"
    }
   ],
   "source": [
    "# Remove keys that don't have 'apple' in them.\n",
    "d2 = filter_dict(d, fn=lambda x: 'apple' in x)\n",
    "d2"
   ]
  },
  {
   "cell_type": "code",
   "execution_count": null,
   "metadata": {},
   "outputs": [],
   "source": [
    "#| hide\n",
    "\n",
    "test_eq(dict_keys(d2), ['apple', 'apple_pie'])"
   ]
  },
  {
   "cell_type": "code",
   "execution_count": null,
   "metadata": {},
   "outputs": [],
   "source": [
    "#| hide\n",
    "import nbdev; nbdev.nbdev_export()"
   ]
  }
 ],
 "metadata": {
  "kernelspec": {
   "display_name": "dai",
   "language": "python",
   "name": "python3"
  }
 },
 "nbformat": 4,
 "nbformat_minor": 4
}
