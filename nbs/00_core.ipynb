{
 "cells": [
  {
   "attachments": {},
   "cell_type": "markdown",
   "metadata": {},
   "source": [
    "# Core\n",
    "\n",
    "> Some basic functions and classes."
   ]
  },
  {
   "cell_type": "code",
   "execution_count": null,
   "metadata": {},
   "outputs": [],
   "source": [
    "#| default_exp core"
   ]
  },
  {
   "cell_type": "code",
   "execution_count": null,
   "metadata": {},
   "outputs": [
    {
     "name": "stderr",
     "output_type": "stream",
     "text": [
      "UsageError: Line magic function `%nbdev_skip_test` not found.\n"
     ]
    }
   ],
   "source": [
    "#| hide\n",
    "\n",
    "from nbdev.showdoc import *\n",
    "from fastcore.test import *\n",
    "\n",
    "%nbdev_skip_test\n",
    "%matplotlib inline\n",
    "%load_ext autoreload\n",
    "%autoreload 2\n",
    "%reload_ext autoreload"
   ]
  },
  {
   "cell_type": "code",
   "execution_count": null,
   "metadata": {},
   "outputs": [],
   "source": [
    "#| export\n",
    "\n",
    "from dreamai.imports import *"
   ]
  },
  {
   "cell_type": "code",
   "execution_count": null,
   "metadata": {},
   "outputs": [],
   "source": [
    "#| export\n",
    "\n",
    "def flatten_list(l):\n",
    "    \"Flatten a list of lists.\"\n",
    "    l2 = []\n",
    "    for x in l:\n",
    "        if is_list(x):\n",
    "            l2 += flatten_list(x)\n",
    "        else:\n",
    "            l2.append(x)\n",
    "    return l2\n",
    "\n",
    "def noop(x=None, **kwargs):\n",
    "    \"Do nothing.\"\n",
    "    return x\n",
    "\n",
    "def is_list(x):\n",
    "    return isinstance(x, list)\n",
    "\n",
    "def is_tuple(x):\n",
    "    return isinstance(x, tuple)\n",
    "\n",
    "def list_or_tuple(x):\n",
    "    return (is_list(x) or is_tuple(x))\n",
    "\n",
    "def is_iter(o):\n",
    "    \"Test whether `o` can be used in a `for` loop.\"\n",
    "    #Rank 0 tensors in PyTorch are not really iterable\n",
    "    return isinstance(o, (Iterable,Generator)) and getattr(o,'ndim',1)\n",
    "\n",
    "def is_dict(x):\n",
    "    return isinstance(x, dict)\n",
    "\n",
    "def is_df(x):\n",
    "    return isinstance(x, pd.core.frame.DataFrame)\n",
    "\n",
    "def is_str(x):\n",
    "    return isinstance(x, str)\n",
    "\n",
    "def is_int(x):\n",
    "    return isinstance(x, int)    \n",
    "\n",
    "def is_float(x):\n",
    "    return isinstance(x, float)\n",
    "\n",
    "def is_array(x):\n",
    "    return isinstance(x, np.ndarray)\n",
    "\n",
    "def is_pilimage(x):\n",
    "    return 'PIL' in str(type(x))\n",
    "\n",
    "def is_tensor(x):\n",
    "    return isinstance(x, torch.Tensor)\n",
    "\n",
    "def is_set(x):\n",
    "    return isinstance(x, set)\n",
    "\n",
    "def is_path(x):\n",
    "    return isinstance(x, Path)\n",
    "\n",
    "def path_or_str(x):\n",
    "    return is_str(x) or is_path(x)\n",
    "\n",
    "def is_norm(x):\n",
    "    return type(x).__name__ == 'Normalize'\n",
    "\n",
    "def params(m):\n",
    "    \"Return all parameters of `m`.\"\n",
    "    return [p for p in m.parameters()]\n",
    "\n",
    "def is_frozen(model):\n",
    "    return np.array([not p.requires_grad for p in (params(model))]).all()\n",
    "\n",
    "def is_unfrozen(model):\n",
    "    return np.array([p.requires_grad for p in (params(model))]).all()\n",
    "\n",
    "def is_subscriptable(x):\n",
    "    return hasattr(x, '__getitem__')\n",
    "\n",
    "def is_sequential(x):\n",
    "    return isinstance(x, nn.Sequential)\n",
    "\n",
    "def is_clip(x):\n",
    "    return type(x).__name__ == 'ProntoClip' or 'moviepy' in str(type(x))\n",
    "\n",
    "def load_yaml(file):\n",
    "    with open(file) as f:\n",
    "        env = load(f, Loader=Loader)\n",
    "    return env\n",
    "\n",
    "def save_obj(path, obj):\n",
    "    with open(path, 'wb') as f:\n",
    "        pickle.dump(obj, f, pickle.HIGHEST_PROTOCOL)\n",
    "\n",
    "def load_obj(path):\n",
    "    with open(path, 'rb') as f:\n",
    "        return pickle.load(f)\n",
    "\n",
    "def yml_to_pip(yml):\n",
    "    \"Get pip packages from a conda environment `yml` file.\"\n",
    "    env = load_yaml(yml)\n",
    "    env_pip = env['dependencies'][-1]['pip']\n",
    "    return \" \".join(env_pip).replace('==', '>=')\n",
    "\n",
    "def merge_dicts(d1,d2):\n",
    "    d = {}\n",
    "    for k in d1:\n",
    "        d[k] = d1[k]\n",
    "    for k in d2:\n",
    "        d[k] = d2[k]\n",
    "    return d\n",
    "\n",
    "def dict_values(d):\n",
    "    \"Get the values of a dictionary sorted by key.\"\n",
    "    return [v for _,v in sorted(d.items(), key=lambda x:x[0])]\n",
    "\n",
    "def dict_keys(d):\n",
    "    \"Get the sorted keys of a dictionary.\"\n",
    "    return [k for k,_ in sorted(d.items(), key=lambda x:x[0])]\n",
    "\n",
    "def sort_dict(d, by_value=False):\n",
    "    \"Sort a dictionary by key by default or by value if `by_value` is True.\"\n",
    "    idx = int(by_value)\n",
    "    return {k: v for k, v in sorted(d.items(), key=lambda item:item[idx])}\n",
    "\n",
    "def locals_to_params(l, omit=[], expand=['kwargs']):\n",
    "    \"Convert all the local variables to a dictionary of parameters.\"\n",
    "    if 'kwargs' not in expand:\n",
    "        expand.append('kwargs')\n",
    "    l = copy.deepcopy(l)\n",
    "    if 'self' in l.keys():\n",
    "        del l['self']\n",
    "    if '__class__' in l.keys():\n",
    "        del l['__class__']\n",
    "    keys = dict_keys(l)\n",
    "    for k in keys:\n",
    "        if k in expand:\n",
    "            for k2 in l[k]:\n",
    "                if k2 not in l.keys():\n",
    "                    l[k2] = l[k][k2]\n",
    "            del l[k]\n",
    "        if k in omit:\n",
    "            del l[k]\n",
    "    return l\n",
    "\n",
    "def list_map(l, m):\n",
    "    \"Apply `m` to each element of `l`.\"\n",
    "    return list(pd.Series(l).apply(m))\n",
    "\n",
    "def add_extension_(x, data_path='', ext='.jpg', make_str=True):\n",
    "    \"Helper function for add_extension.\"\n",
    "    if ext[0] != '.': ext = '.'+ext\n",
    "    x = Path(data_path)/(x+ext)\n",
    "    if make_str:\n",
    "        return str(x)\n",
    "    return x\n",
    "\n",
    "def add_extension(l:list, # List of file names or file paths\n",
    "                  data_path='', # Path to the data folder. It will be added before the file paths.\n",
    "                  ext:str='.jpg', # Extension to add to the file names.\n",
    "                  make_str=True): # If True, convert the file paths to strings.\n",
    "    \"Add an extension to the file names/paths in list `l`.\"\n",
    "    fn = partial(add_extension_, data_path=data_path, ext=ext, make_str=make_str)\n",
    "    return list_map(l, fn)\n",
    "\n",
    "def next_batch(dl):\n",
    "    \"Get the next batch from a dataloader `dl`.\"\n",
    "    return next(iter(dl))\n",
    "\n",
    "def model_children(model):\n",
    "    \"Get the children of a model.\"\n",
    "    return list(model.children())\n",
    "\n",
    "def replace_dict_key(d:dict, x='', y='',\n",
    "                     strict=False): # If True, replace if `x` == key. If False, replace if `x` in key.\n",
    "    \"Replace key `x` with `y` in dictionary `d`.\"\n",
    "    if (x == '' and y == '') or x == y:\n",
    "        return d\n",
    "    if strict:\n",
    "        fn = lambda k: k.replace(x, y) if x == k else k\n",
    "    else:\n",
    "        fn = lambda k: k.replace(x, y) if x in k else k\n",
    "    return {fn(k): v for k, v in d.items()}\n",
    "\n",
    "def proc_fn(fn):\n",
    "    \"Process function `fn`. It can be a string to match or a function that takes a key and returns True/False.\"\n",
    "    if is_str(fn):\n",
    "        t = copy.deepcopy(fn)\n",
    "        fn = lambda x: x==t\n",
    "    return fn\n",
    "\n",
    "def filter_dict(d,\n",
    "                fn): # Can be a string to match or a function that takes a key and returns True/False.\n",
    "    \"Filter dict `d` based on function `fn`.\"\n",
    "    d2 = {}\n",
    "    fn = proc_fn(fn)\n",
    "    keys = dict_keys(d)\n",
    "    for k in keys:\n",
    "        if fn(k):\n",
    "            d2[k] = d[k]\n",
    "    return d2\n",
    "\n",
    "def setify(o): return o if isinstance(o,set) else set(list(o))\n",
    "\n",
    "def _get_files(p, fs, extensions=None):\n",
    "    p = Path(p)\n",
    "    res = [p/f for f in fs if not f.startswith('.')\n",
    "           and ((not extensions) or f'.{f.split(\".\")[-1].lower()}' in extensions)]\n",
    "    return res\n",
    "\n",
    "def get_files(path, extensions=None, recurse=True, folders=None, followlinks=True, make_str=False):\n",
    "    \"Get all the files in `path` with optional `extensions`, optionally with `recurse`, only in `folders`, if specified.\"\n",
    "    if folders is None:\n",
    "        folders = list([])\n",
    "    path = Path(path)\n",
    "    if extensions is not None:\n",
    "        extensions = setify(extensions)\n",
    "        extensions = {e.lower() for e in extensions}\n",
    "    if recurse:\n",
    "        res = []\n",
    "        for i,(p,d,f) in enumerate(os.walk(path, followlinks=followlinks)): # returns (dirpath, dirnames, filenames)\n",
    "            if len(folders) !=0 and i==0: d[:] = [o for o in d if o in folders]\n",
    "            else:                         d[:] = [o for o in d if not o.startswith('.')]\n",
    "            if len(folders) !=0 and i==0 and '.' not in folders: continue\n",
    "            res += _get_files(p, f, extensions)\n",
    "    else:\n",
    "        f = [o.name for o in os.scandir(path) if o.is_file()]\n",
    "        res = _get_files(path, f, extensions)\n",
    "    if make_str: res = [str(o) for o in res]\n",
    "    return list(res)"
   ]
  },
  {
   "attachments": {},
   "cell_type": "markdown",
   "metadata": {},
   "source": [
    "## Some usage examples:"
   ]
  },
  {
   "cell_type": "markdown",
   "metadata": {},
   "source": [
    "Get all the files in a directory."
   ]
  },
  {
   "cell_type": "code",
   "execution_count": null,
   "metadata": {},
   "outputs": [
    {
     "data": {
      "text/plain": [
       "[Path('../README.md'),\n",
       " Path('../LICENSE'),\n",
       " Path('../settings.ini'),\n",
       " Path('../MANIFEST.in'),\n",
       " Path('../setup.py'),\n",
       " Path('../_proc/index.ipynb'),\n",
       " Path('../_proc/nbdev.yml'),\n",
       " Path('../_proc/sidebar.yml'),\n",
       " Path('../_proc/01_vision.ipynb'),\n",
       " Path('../_proc/_quarto.yml'),\n",
       " Path('../_proc/styles.css'),\n",
       " Path('../_proc/00_core.ipynb'),\n",
       " Path('../_proc/_docs/vision.html'),\n",
       " Path('../_proc/_docs/sitemap.xml'),\n",
       " Path('../_proc/_docs/index.html'),\n",
       " Path('../_proc/_docs/search.json'),\n",
       " Path('../_proc/_docs/core.html'),\n",
       " Path('../_proc/_docs/styles.css'),\n",
       " Path('../_proc/_docs/robots.txt'),\n",
       " Path('../_proc/_docs/01_vision_files/figure-html/cell-17-output-2.png'),\n",
       " Path('../_proc/_docs/01_vision_files/figure-html/cell-19-output-1.png'),\n",
       " Path('../_proc/_docs/01_vision_files/figure-html/cell-17-output-1.png'),\n",
       " Path('../_proc/_docs/01_vision_files/figure-html/cell-17-output-3.png'),\n",
       " Path('../_proc/_docs/site_libs/bootstrap/bootstrap-icons.css'),\n",
       " Path('../_proc/_docs/site_libs/bootstrap/bootstrap.min.css'),\n",
       " Path('../_proc/_docs/site_libs/bootstrap/bootstrap.min.js'),\n",
       " Path('../_proc/_docs/site_libs/bootstrap/bootstrap-icons.woff'),\n",
       " Path('../_proc/_docs/site_libs/quarto-html/anchor.min.js'),\n",
       " Path('../_proc/_docs/site_libs/quarto-html/quarto-syntax-highlighting.css'),\n",
       " Path('../_proc/_docs/site_libs/quarto-html/popper.min.js'),\n",
       " Path('../_proc/_docs/site_libs/quarto-html/tippy.css'),\n",
       " Path('../_proc/_docs/site_libs/quarto-html/quarto.js'),\n",
       " Path('../_proc/_docs/site_libs/quarto-html/tippy.umd.min.js'),\n",
       " Path('../_proc/_docs/site_libs/quarto-nav/headroom.min.js'),\n",
       " Path('../_proc/_docs/site_libs/quarto-nav/quarto-nav.js'),\n",
       " Path('../_proc/_docs/site_libs/quarto-search/fuse.min.js'),\n",
       " Path('../_proc/_docs/site_libs/quarto-search/autocomplete.umd.js'),\n",
       " Path('../_proc/_docs/site_libs/quarto-search/quarto-search.js'),\n",
       " Path('../_proc/_docs/site_libs/clipboard/clipboard.min.js'),\n",
       " Path('../build/lib/dreamai/_modidx.py'),\n",
       " Path('../build/lib/dreamai/vision.py'),\n",
       " Path('../build/lib/dreamai/core.py'),\n",
       " Path('../build/lib/dreamai/imports.py'),\n",
       " Path('../build/lib/dreamai/checkers.py'),\n",
       " Path('../build/lib/dreamai/__init__.py'),\n",
       " Path('../imgs/depositphotos_19180159-stock-photo-chamomiles.jpg'),\n",
       " Path('../imgs/depositphotos_12766634-stock-photo-abstract-background-of-flowers.jpg'),\n",
       " Path('../imgs/test_image.jpg'),\n",
       " Path('../imgs/depositphotos_26742873-stock-photo-chamomile.jpg'),\n",
       " Path('../dreamai.egg-info/entry_points.txt'),\n",
       " Path('../dreamai.egg-info/not-zip-safe'),\n",
       " Path('../dreamai.egg-info/SOURCES.txt'),\n",
       " Path('../dreamai.egg-info/dependency_links.txt'),\n",
       " Path('../dreamai.egg-info/requires.txt'),\n",
       " Path('../dreamai.egg-info/top_level.txt'),\n",
       " Path('../dreamai.egg-info/PKG-INFO'),\n",
       " Path('../nbs/index.ipynb'),\n",
       " Path('../nbs/nbdev.yml'),\n",
       " Path('../nbs/sidebar.yml'),\n",
       " Path('../nbs/01_vision.ipynb'),\n",
       " Path('../nbs/_quarto.yml'),\n",
       " Path('../nbs/styles.css'),\n",
       " Path('../nbs/00_core.ipynb'),\n",
       " Path('../dreamai/_modidx.py'),\n",
       " Path('../dreamai/vision.py'),\n",
       " Path('../dreamai/core.py'),\n",
       " Path('../dreamai/imports.py'),\n",
       " Path('../dreamai/__init__.py'),\n",
       " Path('../dreamai/__pycache__/_modidx.cpython-310.pyc'),\n",
       " Path('../dreamai/__pycache__/__init__.cpython-310.pyc'),\n",
       " Path('../dreamai/__pycache__/imports.cpython-310.pyc'),\n",
       " Path('../dreamai/__pycache__/core.cpython-310.pyc'),\n",
       " Path('../dreamai/__pycache__/checkers.cpython-310.pyc'),\n",
       " Path('../dist/dreamai-0.1.2.tar.gz'),\n",
       " Path('../dist/dreamai-0.1.2-py3-none-any.whl')]"
      ]
     },
     "execution_count": null,
     "metadata": {},
     "output_type": "execute_result"
    }
   ],
   "source": [
    "path = '../'\n",
    "files = get_files(path)\n",
    "files"
   ]
  },
  {
   "attachments": {},
   "cell_type": "markdown",
   "metadata": {},
   "source": [
    "Only get the files from the `nbs` folder."
   ]
  },
  {
   "cell_type": "code",
   "execution_count": null,
   "metadata": {},
   "outputs": [
    {
     "data": {
      "text/plain": [
       "[Path('../nbs/index.ipynb'),\n",
       " Path('../nbs/nbdev.yml'),\n",
       " Path('../nbs/sidebar.yml'),\n",
       " Path('../nbs/01_vision.ipynb'),\n",
       " Path('../nbs/_quarto.yml'),\n",
       " Path('../nbs/styles.css'),\n",
       " Path('../nbs/00_core.ipynb')]"
      ]
     },
     "execution_count": null,
     "metadata": {},
     "output_type": "execute_result"
    }
   ],
   "source": [
    "nb_files = get_files(path, folders=['nbs'])\n",
    "nb_files"
   ]
  },
  {
   "attachments": {},
   "cell_type": "markdown",
   "metadata": {},
   "source": [
    "Checking a file path. All tests should pass."
   ]
  },
  {
   "cell_type": "code",
   "execution_count": null,
   "metadata": {},
   "outputs": [
    {
     "data": {
      "text/plain": [
       "'../_proc/styles.css'"
      ]
     },
     "execution_count": null,
     "metadata": {},
     "output_type": "execute_result"
    }
   ],
   "source": [
    "file = str(files[10])\n",
    "test_eq(is_str(file), True)\n",
    "test_eq(is_path(file), False)\n",
    "test_eq(path_or_str(file), True)\n",
    "file"
   ]
  },
  {
   "cell_type": "code",
   "execution_count": null,
   "metadata": {},
   "outputs": [
    {
     "data": {
      "text/plain": [
       "Path('../_proc/styles.css')"
      ]
     },
     "execution_count": null,
     "metadata": {},
     "output_type": "execute_result"
    }
   ],
   "source": [
    "file = files[10]\n",
    "test_eq(is_str(file), False)\n",
    "test_eq(is_path(file), True)\n",
    "test_eq(path_or_str(file), True)\n",
    "file"
   ]
  },
  {
   "attachments": {},
   "cell_type": "markdown",
   "metadata": {},
   "source": [
    "Checking a numpy array."
   ]
  },
  {
   "cell_type": "code",
   "execution_count": null,
   "metadata": {},
   "outputs": [],
   "source": [
    "x = np.array([1,2,3])\n",
    "test_eq(is_array(x), True)\n",
    "test_eq(is_list(x), False)\n",
    "test_eq(is_iter(x), True)"
   ]
  },
  {
   "attachments": {},
   "cell_type": "markdown",
   "metadata": {},
   "source": [
    "Add data_path before file paths and add an extension to the file path."
   ]
  },
  {
   "cell_type": "code",
   "execution_count": null,
   "metadata": {},
   "outputs": [
    {
     "name": "stdout",
     "output_type": "stream",
     "text": [
      "['f1', 'f2', 'f3']\n",
      "['data/files/f1.png', 'data/files/f2.png', 'data/files/f3.png']\n"
     ]
    }
   ],
   "source": [
    "l = ['f1', 'f2', 'f3']\n",
    "data_path = 'data/files'\n",
    "ext = '.png'\n",
    "l2 = add_extension(l, data_path, ext, make_str=True)\n",
    "print(l)\n",
    "print(l2)"
   ]
  },
  {
   "cell_type": "code",
   "execution_count": null,
   "metadata": {},
   "outputs": [],
   "source": [
    "#| hide\n",
    "\n",
    "assert [x[-4:] == ext for x in l2]"
   ]
  },
  {
   "attachments": {},
   "cell_type": "markdown",
   "metadata": {},
   "source": [
    "Some dictionary examples."
   ]
  },
  {
   "cell_type": "code",
   "execution_count": null,
   "metadata": {},
   "outputs": [],
   "source": [
    "d = {'apple':1, 'apple_pie':2, 'cake':3}"
   ]
  },
  {
   "cell_type": "code",
   "execution_count": null,
   "metadata": {},
   "outputs": [
    {
     "name": "stdout",
     "output_type": "stream",
     "text": [
      "{'apple': 1, 'apple_pie': 2, 'cake': 3}\n",
      "{'apple': 1, 'apple_pie': 2, 'cake': 3}\n"
     ]
    }
   ],
   "source": [
    "# Sort dict.\n",
    "\n",
    "print(sort_dict(d)) # by key\n",
    "print(sort_dict(d, by_value=True)) # by value"
   ]
  },
  {
   "cell_type": "code",
   "execution_count": null,
   "metadata": {},
   "outputs": [
    {
     "name": "stdout",
     "output_type": "stream",
     "text": [
      "{'pumpkin': 1, 'apple_pie': 2, 'cake': 3}\n",
      "{'pumpkin': 1, 'pumpkin_pie': 2, 'cake': 3}\n"
     ]
    }
   ],
   "source": [
    "# Replace 'apple' with 'pumpkin'\n",
    "print(replace_dict_key(d, x='apple', y='pumpkin', strict=True))\n",
    "\n",
    "# Replace all instances of 'apple' with 'pumpkin'\n",
    "print(replace_dict_key(d, x='apple', y='pumpkin', strict=False))"
   ]
  },
  {
   "cell_type": "code",
   "execution_count": null,
   "metadata": {},
   "outputs": [
    {
     "data": {
      "text/plain": [
       "{'apple': 1, 'apple_pie': 2}"
      ]
     },
     "execution_count": null,
     "metadata": {},
     "output_type": "execute_result"
    }
   ],
   "source": [
    "# Remove keys that don't have 'apple' in them.\n",
    "d2 = filter_dict(d, fn=lambda x: 'apple' in x)\n",
    "d2"
   ]
  },
  {
   "cell_type": "code",
   "execution_count": null,
   "metadata": {},
   "outputs": [],
   "source": [
    "#| hide\n",
    "\n",
    "test_eq(dict_keys(d2), ['apple', 'apple_pie'])"
   ]
  },
  {
   "cell_type": "markdown",
   "metadata": {},
   "source": [
    "Flatten a list."
   ]
  },
  {
   "cell_type": "code",
   "execution_count": null,
   "metadata": {},
   "outputs": [
    {
     "data": {
      "text/plain": [
       "[1, 2, 3, 4, 5, 6, 7, 8, 9, 10]"
      ]
     },
     "execution_count": null,
     "metadata": {},
     "output_type": "execute_result"
    }
   ],
   "source": [
    "l = [[1, 2, 3], [4, [5, 6]], [7], [8, 9], 10]\n",
    "l2 = flatten_list(l)\n",
    "l2"
   ]
  },
  {
   "cell_type": "code",
   "execution_count": null,
   "metadata": {},
   "outputs": [],
   "source": [
    "test_eq(l2, [1, 2, 3, 4, 5, 6, 7, 8, 9, 10])"
   ]
  },
  {
   "cell_type": "code",
   "execution_count": null,
   "metadata": {},
   "outputs": [],
   "source": [
    "#| hide\n",
    "import nbdev; nbdev.nbdev_export()"
   ]
  }
 ],
 "metadata": {
  "kernelspec": {
   "display_name": "dai",
   "language": "python",
   "name": "python3"
  }
 },
 "nbformat": 4,
 "nbformat_minor": 4
}
